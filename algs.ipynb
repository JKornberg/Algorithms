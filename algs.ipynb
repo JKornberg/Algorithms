{
 "cells": [
  {
   "cell_type": "code",
   "execution_count": 2,
   "metadata": {},
   "outputs": [],
   "source": [
    "from typing import List"
   ]
  },
  {
   "attachments": {},
   "cell_type": "markdown",
   "metadata": {},
   "source": [
    "# Binary Search"
   ]
  },
  {
   "cell_type": "code",
   "execution_count": 1,
   "metadata": {},
   "outputs": [],
   "source": [
    "# Get leftmost or position should be inserted\n",
    "def binarySearch(nums: List[int], target: int) -> int:\n",
    "    l, r = 0, len(nums)\n",
    "    while l < r :\n",
    "        m = (l + r) // 2\n",
    "        if nums[m] < target:\n",
    "            l = m + 1\n",
    "        else: \n",
    "            r = m\n",
    "    return l"
   ]
  },
  {
   "cell_type": "code",
   "execution_count": 5,
   "metadata": {},
   "outputs": [
    {
     "data": {
      "text/plain": [
       "3"
      ]
     },
     "execution_count": 5,
     "metadata": {},
     "output_type": "execute_result"
    }
   ],
   "source": [
    "binarySearch([1,2,3,5,6,7,8,9], 4)"
   ]
  },
  {
   "attachments": {},
   "cell_type": "markdown",
   "metadata": {},
   "source": [
    "### Binary Search with Rotated Array"
   ]
  },
  {
   "cell_type": "code",
   "execution_count": 7,
   "metadata": {},
   "outputs": [],
   "source": [
    "def searchRotated(nums: List[int], target: int) -> int:\n",
    "    l,r = 0, len(nums) - 1\n",
    "    while l <= r:\n",
    "        mid = (l + r) // 2\n",
    "        if nums[mid] == target:\n",
    "            return mid\n",
    "        if nums[mid] < nums[l]: # right part is sorted\n",
    "            if nums[mid] < target and nums[r] >= target:\n",
    "                l = mid + 1\n",
    "            else:\n",
    "                r = mid - 1\n",
    "        else: # left part is sorted\n",
    "            if nums[mid] > target and nums[l] <= target:\n",
    "                r = mid - 1\n",
    "            else:\n",
    "                l = mid + 1\n",
    "    return -1\n"
   ]
  },
  {
   "cell_type": "code",
   "execution_count": 8,
   "metadata": {},
   "outputs": [
    {
     "data": {
      "text/plain": [
       "4"
      ]
     },
     "execution_count": 8,
     "metadata": {},
     "output_type": "execute_result"
    }
   ],
   "source": [
    "searchRotated([4,5,6,7,0,1,2], 0)"
   ]
  },
  {
   "cell_type": "markdown",
   "metadata": {},
   "source": [
    "# Graph"
   ]
  },
  {
   "attachments": {},
   "cell_type": "markdown",
   "metadata": {},
   "source": [
    "### Max Area of Island"
   ]
  },
  {
   "cell_type": "code",
   "execution_count": 3,
   "metadata": {},
   "outputs": [],
   "source": [
    "from collections import deque\n",
    "class Solution:\n",
    "    def maxAreaOfIsland(self, grid) -> int:\n",
    "        rows = len(grid)\n",
    "        cols = len(grid[0])\n",
    "        visited = [[False for c in range(cols)] for r in range(rows)]\n",
    "        s = deque()\n",
    "        res = 0\n",
    "        for startR in range(rows):\n",
    "            for startC in range(cols):\n",
    "                island = 0\n",
    "                s.append((startR, startC))\n",
    "                while s:\n",
    "                    r,c = s.pop()\n",
    "                    if r < 0 or r >= rows or c < 0 or c >= cols or visited[r][c] or grid[r][c] == 0:\n",
    "                        continue\n",
    "                    else:\n",
    "                        island += 1\n",
    "                        res = max(island, res)\n",
    "                        visited[r][c] = True\n",
    "                        s.append((r+1,c))\n",
    "                        s.append((r,c+1))\n",
    "                        s.append((r-1,c))\n",
    "                        s.append((r,c-1))\n",
    "        return res"
   ]
  },
  {
   "attachments": {},
   "cell_type": "markdown",
   "metadata": {},
   "source": [
    "### Djikstra"
   ]
  },
  {
   "cell_type": "code",
   "execution_count": 4,
   "metadata": {},
   "outputs": [],
   "source": [
    "# Ball rolls until it hits a wall\n",
    "import heapq\n",
    "class Solution:\n",
    "    def shortestDistance(self, maze , start, destination) -> int:       \n",
    "        rows = len(maze)\n",
    "        cols = len(maze[0])\n",
    "        distances = [[float('inf') for _ in range(cols)] for _ in range(rows)]\n",
    "        distances[start[0]][start[1]] = 0\n",
    "        endR, endC = destination\n",
    "        directions = [[0,1],[0,-1],[1,0],[-1,0]]\n",
    "        \n",
    "\n",
    "        def djikstra(startR, startC):\n",
    "            q = [(0,startR,startC)]\n",
    "            while q:\n",
    "                dist, startR, startC = heapq.heappop(q)\n",
    "                if distances[startR][startC] < dist:\n",
    "                    continue\n",
    "                for dir in directions:\n",
    "                    r, c, i = startR, startC, dist\n",
    "                    while c >= 0 and c < cols and r >= 0 and r < rows and maze[r][c]==0 :\n",
    "                        r += dir[0]\n",
    "                        c += dir[1]\n",
    "                        i +=1\n",
    "                    r=r-dir[0]\n",
    "                    c=c-dir[1]\n",
    "                    i-=1\n",
    "                    if (i < distances[r][c]):\n",
    "                        distances[r][c] = min(distances[r][c], i)\n",
    "                        heapq.heappush(q, (i,r,c))\n",
    "            return\n",
    "        djikstra(start[0],start[1])\n",
    "        res = distances[endR][endC]\n",
    "        return res if res != float('inf') else -1"
   ]
  },
  {
   "cell_type": "markdown",
   "metadata": {},
   "source": [
    "# DP"
   ]
  },
  {
   "cell_type": "markdown",
   "metadata": {},
   "source": [
    "## Buy Sell Stock"
   ]
  },
  {
   "cell_type": "markdown",
   "metadata": {},
   "source": [
    "### Buy Sell Stock K Times"
   ]
  },
  {
   "cell_type": "code",
   "execution_count": null,
   "metadata": {},
   "outputs": [],
   "source": [
    "def maxProfit(self, k: int, prices: List[int]) -> int:\n",
    "    # buy x prices\n",
    "    # sell x prices\n",
    "    buys = [[0 for _ in range(len(prices) + 1 )] for _ in range(k+1)]\n",
    "    sells = [[float('-inf') for _ in range(len(prices) + 1)] for _ in range(k+1)]\n",
    "\n",
    "\n",
    "    for p in range(len(buys)):\n",
    "        buys[p][0] = float(\"-inf\") # never have stock on day 1\n",
    "    for d in range(len(sells[0])):\n",
    "        sells[0][d] = 0\n",
    "    for p in range(1,len(buys)):\n",
    "        for d in range(1,len(buys[0])):\n",
    "            buys[p][d] = max(buys[p][d-1], sells[p-1][d-1] - prices[d-1]) # best of previous day buy and buying given previous day sell\n",
    "            sells[p][d] = max(buys[p][d-1] + prices[d-1], sells[p][d-1]) # sell same transaction previous day buy or previous sell\n",
    "    \n",
    "    return max([s[-1] for s in sells])"
   ]
  },
  {
   "cell_type": "markdown",
   "metadata": {},
   "source": [
    "### Buy Sell Stock 2x"
   ]
  },
  {
   "cell_type": "code",
   "execution_count": null,
   "metadata": {},
   "outputs": [],
   "source": [
    "def maxProfit(self, prices: List[int]) -> int:\n",
    "    oneBuy = float('-inf')\n",
    "    oneSell = float('-inf')\n",
    "    twoBuy = float('-inf')\n",
    "    twoSell = float('-inf')\n",
    "    best = 0\n",
    "    for p in prices:\n",
    "        oneSell = max(oneSell, p+oneBuy)\n",
    "        oneBuy = max(-1*p,oneBuy)\n",
    "        twoSell = max(p + twoBuy, twoSell)\n",
    "        twoBuy = max(oneSell - p, twoBuy)\n",
    "        best = max(best,twoSell,oneSell)\n",
    "    return best"
   ]
  },
  {
   "cell_type": "markdown",
   "metadata": {},
   "source": [
    "### Buy Sell Stock with Cooldown"
   ]
  },
  {
   "cell_type": "code",
   "execution_count": null,
   "metadata": {},
   "outputs": [],
   "source": [
    "def maxProfit(self, prices: List[int]) -> int:\n",
    "    # day, havestock \n",
    "\n",
    "    dp = [[0 for _ in range(2)] for _ in range(len(prices) + 1)]\n",
    "    dp[0][0] = 0\n",
    "    dp[0][1] = float('-inf')\n",
    "\n",
    "    for i in range(0,len(prices)):\n",
    "        dp[i+1][0] = max(dp[i][0], dp[i][1] + prices[i])\n",
    "        dp[i+1][1] = max(dp[i][1], dp[i-1][0] - prices[i])\n",
    "\n",
    "    return dp[-1][0]"
   ]
  },
  {
   "attachments": {},
   "cell_type": "markdown",
   "metadata": {},
   "source": [
    "## Kadane's Algorithm (Maximum subarray)"
   ]
  },
  {
   "cell_type": "code",
   "execution_count": 1,
   "metadata": {},
   "outputs": [],
   "source": [
    "def maxSubArray( nums) -> int:\n",
    "    total = 0\n",
    "    m = -1 * float('inf')\n",
    "    i = 0\n",
    "    while i < len(nums):\n",
    "        total = total + nums[i]\n",
    "        m = max(m, total )\n",
    "        total = max(0,total)\n",
    "        i+=1\n",
    "    return m"
   ]
  },
  {
   "cell_type": "markdown",
   "metadata": {},
   "source": [
    "## Coins"
   ]
  },
  {
   "attachments": {},
   "cell_type": "markdown",
   "metadata": {},
   "source": [
    "### Minimum coins to make sum"
   ]
  },
  {
   "cell_type": "code",
   "execution_count": 3,
   "metadata": {},
   "outputs": [],
   "source": [
    "def coinChange(coins, amount: int) -> int:\n",
    "    dp = [float('inf') for i in range(amount + 1)] \n",
    "    dp[0] = 0\n",
    "    for c in coins:\n",
    "        for i in range(c,amount+1):\n",
    "            if i >= c:\n",
    "                dp[i] = min(dp[i], dp[i-c] + 1)\n",
    "    if dp[amount] == float('inf'):\n",
    "        return -1\n",
    "    else:\n",
    "        return dp[amount]"
   ]
  },
  {
   "attachments": {},
   "cell_type": "markdown",
   "metadata": {},
   "source": [
    "### Coin combinations to make amount "
   ]
  },
  {
   "cell_type": "code",
   "execution_count": 4,
   "metadata": {},
   "outputs": [],
   "source": [
    "def change( amount: int, coins) -> int:\n",
    "    dp = [0] * (amount + 1)\n",
    "    dp[0] = 1\n",
    "    for c in coins:\n",
    "        dp2 = dp.copy()\n",
    "        for i in range(amount + 1):\n",
    "            dp2[i] = dp[i]\n",
    "            if i >= c:\n",
    "                dp2[i] += dp2[i-c]\n",
    "        dp = dp2\n",
    "    return dp[-1]"
   ]
  },
  {
   "cell_type": "markdown",
   "metadata": {},
   "source": [
    "# Misc"
   ]
  },
  {
   "attachments": {},
   "cell_type": "markdown",
   "metadata": {},
   "source": [
    "### Median of two sorted lists"
   ]
  },
  {
   "cell_type": "code",
   "execution_count": 7,
   "metadata": {},
   "outputs": [],
   "source": [
    "from statistics import median\n",
    "def medianOfSorted(a,b):\n",
    "    return median(sorted(a+b))"
   ]
  },
  {
   "attachments": {},
   "cell_type": "markdown",
   "metadata": {},
   "source": [
    "### Monotonic Stack Remove K digits\n",
    "Given string num representing a non-negative integer num, and an integer k, return the smallest possible integer after removing k digits from num."
   ]
  },
  {
   "cell_type": "code",
   "execution_count": 21,
   "metadata": {},
   "outputs": [],
   "source": [
    "def removeKdigits(num: str, k: int) -> str:\n",
    "    numStack = []\n",
    "    \n",
    "    # Construct a monotone increasing sequence of digits\n",
    "    for digit in num:\n",
    "        while k and numStack and numStack[-1] > digit:\n",
    "            numStack.pop()\n",
    "            k -= 1\n",
    "    \n",
    "        numStack.append(digit)\n",
    "    # - Trunk the remaining K digits at the end\n",
    "    # - in the case k==0: return the entire list\n",
    "    finalStack = numStack[:-k] if k else numStack\n",
    "    \n",
    "    # trip the leading zeros\n",
    "    return \"\".join(finalStack).lstrip('0') or \"0\""
   ]
  },
  {
   "cell_type": "code",
   "execution_count": 22,
   "metadata": {},
   "outputs": [
    {
     "data": {
      "text/plain": [
       "'54321'"
      ]
     },
     "execution_count": 22,
     "metadata": {},
     "output_type": "execute_result"
    }
   ],
   "source": [
    "removeKdigits(\"564321\",1)"
   ]
  },
  {
   "cell_type": "code",
   "execution_count": null,
   "metadata": {},
   "outputs": [],
   "source": []
  }
 ],
 "metadata": {
  "kernelspec": {
   "display_name": "ds",
   "language": "python",
   "name": "python3"
  },
  "language_info": {
   "codemirror_mode": {
    "name": "ipython",
    "version": 3
   },
   "file_extension": ".py",
   "mimetype": "text/x-python",
   "name": "python",
   "nbconvert_exporter": "python",
   "pygments_lexer": "ipython3",
   "version": "3.10.6"
  },
  "orig_nbformat": 4,
  "vscode": {
   "interpreter": {
    "hash": "4f444c4eb8d87089eba2929a387fecee442ee19b72e2e518fbafff762a5313ee"
   }
  }
 },
 "nbformat": 4,
 "nbformat_minor": 2
}
